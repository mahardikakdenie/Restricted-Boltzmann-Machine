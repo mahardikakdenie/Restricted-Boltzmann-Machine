{
  "nbformat": 4,
  "nbformat_minor": 0,
  "metadata": {
    "colab": {
      "name": "RBM",
      "provenance": [],
      "collapsed_sections": [],
      "authorship_tag": "ABX9TyMDV7MrK6pCm2pAs2rnIVFU",
      "include_colab_link": true
    },
    "kernelspec": {
      "name": "python3",
      "display_name": "Python 3"
    },
    "language_info": {
      "name": "python"
    }
  },
  "cells": [
    {
      "cell_type": "markdown",
      "metadata": {
        "id": "view-in-github",
        "colab_type": "text"
      },
      "source": [
        "<a href=\"https://colab.research.google.com/github/mahardikakdenie/Restricted-Boltzmann-Machine/blob/main/RBM.ipynb\" target=\"_parent\"><img src=\"https://colab.research.google.com/assets/colab-badge.svg\" alt=\"Open In Colab\"/></a>"
      ]
    },
    {
      "cell_type": "code",
      "execution_count": null,
      "metadata": {
        "id": "1PB_XGKEOwJA"
      },
      "outputs": [],
      "source": [
        "# Importing the libraries  \n",
        "import numpy as np  \n",
        "import pandas as pd  \n",
        "import torch  \n",
        "import torch.nn as nn  \n",
        "import torch.nn.parallel  \n",
        "import torch.optim as optim  \n",
        "import torch.utils.data  \n",
        "from torch.autograd import Variable"
      ]
    },
    {
      "cell_type": "code",
      "source": [
        "movies = pd.read_csv('movies.dat', sep = '::', header = None, engine = 'python', encoding = 'latin-1')\n",
        "print(movies)"
      ],
      "metadata": {
        "colab": {
          "base_uri": "https://localhost:8080/"
        },
        "id": "Rg30QWxnP13K",
        "outputId": "a8128720-9659-402f-b9e3-fd2e27e9ceb9"
      },
      "execution_count": null,
      "outputs": [
        {
          "output_type": "stream",
          "name": "stdout",
          "text": [
            "         0                                   1                             2\n",
            "0        1                    Toy Story (1995)   Animation|Children's|Comedy\n",
            "1        2                      Jumanji (1995)  Adventure|Children's|Fantasy\n",
            "2        3             Grumpier Old Men (1995)                Comedy|Romance\n",
            "3        4            Waiting to Exhale (1995)                  Comedy|Drama\n",
            "4        5  Father of the Bride Part II (1995)                        Comedy\n",
            "...    ...                                 ...                           ...\n",
            "3878  3948             Meet the Parents (2000)                        Comedy\n",
            "3879  3949          Requiem for a Dream (2000)                         Drama\n",
            "3880  3950                    Tigerland (2000)                         Drama\n",
            "3881  3951             Two Family House (2000)                         Drama\n",
            "3882  3952               Contender, The (2000)                Drama|Thriller\n",
            "\n",
            "[3883 rows x 3 columns]\n"
          ]
        }
      ]
    },
    {
      "cell_type": "code",
      "source": [
        ""
      ],
      "metadata": {
        "id": "yKyk3ZbR3JHu"
      },
      "execution_count": null,
      "outputs": []
    },
    {
      "cell_type": "code",
      "source": [
        "Users = pd.read_csv('users.dat', sep = '::', header = None, engine = 'python', encoding = 'latin-1')  \n",
        "print(Users)"
      ],
      "metadata": {
        "colab": {
          "base_uri": "https://localhost:8080/"
        },
        "id": "MDjhxtItUVYP",
        "outputId": "5cf082ac-26ea-4c11-e5ae-fceaaec9eb04"
      },
      "execution_count": null,
      "outputs": [
        {
          "output_type": "stream",
          "name": "stdout",
          "text": [
            "         0  1   2   3      4\n",
            "0        1  F   1  10  48067\n",
            "1        2  M  56  16  70072\n",
            "2        3  M  25  15  55117\n",
            "3        4  M  45   7  02460\n",
            "4        5  M  25  20  55455\n",
            "...    ... ..  ..  ..    ...\n",
            "6035  6036  F  25  15  32603\n",
            "6036  6037  F  45   1  76006\n",
            "6037  6038  F  56   1  14706\n",
            "6038  6039  F  45   0  01060\n",
            "6039  6040  M  25   6  11106\n",
            "\n",
            "[6040 rows x 5 columns]\n"
          ]
        }
      ]
    },
    {
      "cell_type": "code",
      "source": [
        ""
      ],
      "metadata": {
        "id": "Et4cwcdm3Lg_"
      },
      "execution_count": null,
      "outputs": []
    },
    {
      "cell_type": "code",
      "source": [
        "Ratings = pd.read_csv('ratings.dat', sep = '::', header = None, engine = 'python', encoding = 'latin-1')\n",
        "print(Ratings)"
      ],
      "metadata": {
        "colab": {
          "base_uri": "https://localhost:8080/"
        },
        "id": "nI02vxSyUYYm",
        "outputId": "91de903d-a08a-43b6-fd2c-a70ef880bfa0"
      },
      "execution_count": null,
      "outputs": [
        {
          "output_type": "stream",
          "name": "stdout",
          "text": [
            "            0     1  2          3\n",
            "0           1  1193  5  978300760\n",
            "1           1   661  3  978302109\n",
            "2           1   914  3  978301968\n",
            "3           1  3408  4  978300275\n",
            "4           1  2355  5  978824291\n",
            "...       ...   ... ..        ...\n",
            "1000204  6040  1091  1  956716541\n",
            "1000205  6040  1094  5  956704887\n",
            "1000206  6040   562  5  956704746\n",
            "1000207  6040  1096  4  956715648\n",
            "1000208  6040  1097  4  956715569\n",
            "\n",
            "[1000209 rows x 4 columns]\n"
          ]
        }
      ]
    },
    {
      "cell_type": "code",
      "source": [
        "# Preparing the training set and the test set  \n",
        "training_set = pd.read_csv('u1.base', delimiter = '\\t')\n",
        "print(training_set)"
      ],
      "metadata": {
        "colab": {
          "base_uri": "https://localhost:8080/"
        },
        "id": "8Vj-iin7UZ08",
        "outputId": "1b796dc8-cdcf-4832-c4a3-6112f1095494"
      },
      "execution_count": null,
      "outputs": [
        {
          "output_type": "stream",
          "name": "stdout",
          "text": [
            "         1   1.1  5  874965758\n",
            "0        1     2  3  876893171\n",
            "1        1     3  4  878542960\n",
            "2        1     4  3  876893119\n",
            "3        1     5  3  889751712\n",
            "4        1     7  4  875071561\n",
            "...    ...   ... ..        ...\n",
            "79994  943  1067  2  875501756\n",
            "79995  943  1074  4  888640250\n",
            "79996  943  1188  3  888640250\n",
            "79997  943  1228  3  888640275\n",
            "79998  943  1330  3  888692465\n",
            "\n",
            "[79999 rows x 4 columns]\n"
          ]
        }
      ]
    },
    {
      "cell_type": "code",
      "source": [
        "test_set = pd.read_csv('u1.test', delimiter = '\\t')  \n",
        "print(test_set)"
      ],
      "metadata": {
        "colab": {
          "base_uri": "https://localhost:8080/"
        },
        "id": "jHRUhyguWt5f",
        "outputId": "5ff8c992-af09-4bcd-9934-0831152e341d"
      },
      "execution_count": null,
      "outputs": [
        {
          "output_type": "stream",
          "name": "stdout",
          "text": [
            "         1     6  5  887431973\n",
            "0        1    10  3  875693118\n",
            "1        1    12  5  878542960\n",
            "2        1    14  5  874965706\n",
            "3        1    17  3  875073198\n",
            "4        1    20  4  887431883\n",
            "...    ...   ... ..        ...\n",
            "19994  458   648  4  886395899\n",
            "19995  458  1101  4  886397931\n",
            "19996  459   934  3  879563639\n",
            "19997  460    10  3  882912371\n",
            "19998  462   682  5  886365231\n",
            "\n",
            "[19999 rows x 4 columns]\n"
          ]
        }
      ]
    },
    {
      "cell_type": "code",
      "source": [
        "test_set = np.array(test_set, dtype = 'int')  \n",
        "print(test_set)"
      ],
      "metadata": {
        "colab": {
          "base_uri": "https://localhost:8080/"
        },
        "id": "xyeyl4_kXWqj",
        "outputId": "9d4233b6-9a0c-455d-b019-ba5ce1e5221b"
      },
      "execution_count": null,
      "outputs": [
        {
          "output_type": "stream",
          "name": "stdout",
          "text": [
            "[[        1        10         3 875693118]\n",
            " [        1        12         5 878542960]\n",
            " [        1        14         5 874965706]\n",
            " ...\n",
            " [      459       934         3 879563639]\n",
            " [      460        10         3 882912371]\n",
            " [      462       682         5 886365231]]\n"
          ]
        }
      ]
    },
    {
      "cell_type": "code",
      "source": [
        "training_set = np.array(training_set, dtype = 'int')  \n",
        "print(training_set)"
      ],
      "metadata": {
        "colab": {
          "base_uri": "https://localhost:8080/"
        },
        "id": "6TkriGALXevW",
        "outputId": "4fdb11fd-a81c-45b9-f93d-c902eeab5aec"
      },
      "execution_count": null,
      "outputs": [
        {
          "output_type": "stream",
          "name": "stdout",
          "text": [
            "[[        1         2         3 876893171]\n",
            " [        1         3         4 878542960]\n",
            " [        1         4         3 876893119]\n",
            " ...\n",
            " [      943      1188         3 888640250]\n",
            " [      943      1228         3 888640275]\n",
            " [      943      1330         3 888692465]]\n"
          ]
        }
      ]
    },
    {
      "cell_type": "code",
      "source": [
        "# Getting the number of users and movies  \n",
        "nb_users = int(max(max(training_set[:,0]), max(test_set[:,0])))  \n",
        "print(nb_users)"
      ],
      "metadata": {
        "colab": {
          "base_uri": "https://localhost:8080/"
        },
        "id": "RhIylGXJ6mEe",
        "outputId": "35f6d1df-534b-48ec-cc13-355b39c6ae34"
      },
      "execution_count": null,
      "outputs": [
        {
          "output_type": "stream",
          "name": "stdout",
          "text": [
            "943\n"
          ]
        }
      ]
    },
    {
      "cell_type": "code",
      "source": [
        "nb_movies = int(max(max(training_set[:,1]), max(test_set[:,1])))  \n",
        "print(nb_movies)"
      ],
      "metadata": {
        "colab": {
          "base_uri": "https://localhost:8080/"
        },
        "id": "U2jx45E_6po1",
        "outputId": "b7668480-4da1-4017-8b5a-0bda2f7a3d61"
      },
      "execution_count": null,
      "outputs": [
        {
          "output_type": "stream",
          "name": "stdout",
          "text": [
            "1682\n"
          ]
        }
      ]
    },
    {
      "cell_type": "code",
      "source": [
        "max(training_set[:,1])  "
      ],
      "metadata": {
        "colab": {
          "base_uri": "https://localhost:8080/"
        },
        "id": "dXd7zg_i7GVM",
        "outputId": "26e76af0-89ed-4acc-da62-88b9b3d2b892"
      },
      "execution_count": null,
      "outputs": [
        {
          "output_type": "execute_result",
          "data": {
            "text/plain": [
              "1682"
            ]
          },
          "metadata": {},
          "execution_count": 52
        }
      ]
    },
    {
      "cell_type": "code",
      "source": [
        "max(test_set[:,1])  "
      ],
      "metadata": {
        "colab": {
          "base_uri": "https://localhost:8080/"
        },
        "id": "8M7QlrFa7KBm",
        "outputId": "f5b2c5d1-055a-4ad3-82da-e5c4ba2d20f9"
      },
      "execution_count": null,
      "outputs": [
        {
          "output_type": "execute_result",
          "data": {
            "text/plain": [
              "1591"
            ]
          },
          "metadata": {},
          "execution_count": 53
        }
      ]
    },
    {
      "cell_type": "code",
      "source": [
        "# Converting the data into an array with users in lines and movies in columns  \n",
        "def convert(data):\n",
        "  new_data = []\n",
        "  for id_users in range(1, nb_users + 1):  \n",
        "    id_movies = data[:,1][data[:,0] == id_users]  \n",
        "    id_ratings = data[:,2][data[:,0] == id_users]  \n",
        "    ratings = np.zeros(nb_movies) \n",
        "    ratings[id_movies - 1] = id_ratings\n",
        "    new_data.append(list(ratings))  \n",
        "    return new_data\n",
        "    training_set = convert(training_set)  \n",
        "    test_set = convert(test_set)  "
      ],
      "metadata": {
        "id": "NlXQb2jG7Ppd"
      },
      "execution_count": null,
      "outputs": []
    },
    {
      "cell_type": "code",
      "source": [
        "# Converting the data into Torch tensors  \n",
        "training_set = torch.FloatTensor(training_set)  \n",
        "print(training_set)"
      ],
      "metadata": {
        "id": "Sv7F24EL70Ig"
      },
      "execution_count": null,
      "outputs": []
    },
    {
      "cell_type": "code",
      "source": [
        "test_set = torch.FloatTensor(test_set)  \n",
        "print(test_set)"
      ],
      "metadata": {
        "id": "YtHbhBa8S1LI"
      },
      "execution_count": null,
      "outputs": []
    },
    {
      "cell_type": "code",
      "source": [
        "# Converting the ratings into binary ratings 1 (Liked) or 0 (Not Liked)  \n",
        "training_set[training_set == 0] = -1\n",
        "training_set[training_set == 1] = 0  \n",
        "training_set[training_set == 2] = 0  \n",
        "training_set[training_set >= 3] = 1  \n",
        "test_set[test_set == 0] = -1  \n",
        "test_set[test_set == 1] = 0  \n",
        "test_set[test_set == 2] = 0  \n",
        "test_set[test_set >= 3] = 1  "
      ],
      "metadata": {
        "id": "whSTxlwq3RN7"
      },
      "execution_count": null,
      "outputs": []
    },
    {
      "cell_type": "code",
      "source": [
        "# Creating the architecture of the Neural Network  \n",
        "class RBM():  \n",
        "    def __init__(self, nv, nh):\n",
        "      self.W = torch.randn(nh, nv)\n",
        "      self.a = torch.randn(1, nh) \n",
        "      self.b = torch.randn(1, nv) \n",
        "    def sample_h(self, x):  \n",
        "      wx = torch.mm(x, self.W.t()) \n",
        "      activation = wx + self.a.expand_as(wx)  \n",
        "      p_h_given_v = torch.sigmoid(activation)  \n",
        "      return p_h_given_v, torch.bernoulli(p_h_given_v) \n",
        "    def sample_v(self, y):  \n",
        "      wy = torch.mm(y, self.W)  \n",
        "      activation = wy + self.b.expand_as(wy)  \n",
        "      p_v_given_h = torch.sigmoid(activation)  \n",
        "      return p_v_given_h, torch.bernoulli(p_v_given_h)  \n",
        "    def train(self, v0, vk, ph0, phk):  \n",
        "      self.W += torch.mm(v0.t(), ph0) - torch.mm(vk.t(), phk)  \n",
        "      self.b += torch.sum((v0 - vk), 0)\n",
        "      self.a += torch.sum((ph0 - phk), 0)  "
      ],
      "metadata": {
        "id": "P3GPcwH-3iAU"
      },
      "execution_count": null,
      "outputs": []
    },
    {
      "cell_type": "code",
      "source": [
        "# Training the RBM  \n",
        "nv = len(training_set[0]) \n",
        "nh = 100\n",
        "batch_size = 100  \n",
        "rbm = RBM(nv, nh)  \n",
        "nb_epoch = 10\n",
        "for epoch in range(1, nb_epoch + 1):  \n",
        "  train_loss = 0 \n",
        "  s=0\n",
        "  for id_user in range(0, nb_users - batch_size, batch_size):  \n",
        "    vk = training_set[id_user:id_user+batch_size]  \n",
        "    v0 = training_set[id_user:id_user+batch_size]  \n",
        "    ph0,_ = rbm.sample_h(v0)\n",
        "    for k in range(10):  \n",
        "      _,hk = rbm.sample_h(vk)\n",
        "      _,vk = rbm.sample_v(hk)  \n",
        "      vk[v0<0] = v0[v0<0]  \n",
        "      phk,_ = rbm.sample_h(vk)  \n",
        "      # rbm.train(v0, vk, ph0, phk)  \n",
        "      train_loss += torch.mean(torch.abs(v0[v0>=0] - vk[v0>=0]))  \n",
        "      s += 1.\n",
        "      print('epoch: '+str(epoch)+' loss: '+str(train_loss/s)) "
      ],
      "metadata": {
        "id": "XNq7idjq-TmL"
      },
      "execution_count": null,
      "outputs": []
    },
    {
      "cell_type": "code",
      "source": [
        "# Testing the RBM  \n",
        "test_loss = 0  \n",
        "s = 0\n",
        "for id_user in range(nb_users):  \n",
        "  v = training_set[id_user:id_user+1]  \n",
        "  vt = test_set[id_user:id_user+1]  \n",
        "  if len(vt[vt>=0]) > 0:  \n",
        "    _,h = rbm.sample_h(v)  \n",
        "    _,v = rbm.sample_v(h)\n",
        "    test_loss += torch.mean(torch.abs(vt[vt>=0] - v[vt>=0]))  \n",
        "    s += 1.  \n",
        "    print('test loss: '+str(test_loss/s))  "
      ],
      "metadata": {
        "id": "-IboTn3UCzgh"
      },
      "execution_count": null,
      "outputs": []
    }
  ]
}